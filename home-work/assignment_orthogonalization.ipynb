{
 "cells": [
  {
   "cell_type": "markdown",
   "id": "999c9d3b",
   "metadata": {},
   "source": [
    "# 🧑‍🎓 Assignment: Orthogonalization in ML\n",
    "Заполни **Student Info**, затем выполняй задания ниже. Запускай тесты — они начисляют баллы. В конце запусти `[SUBMIT]`. Баллы суммируются автоматически."
   ]
  },
  {
   "cell_type": "markdown",
   "id": "42bd406f",
   "metadata": {},
   "source": [
    "## Student Info"
   ]
  },
  {
   "cell_type": "code",
   "execution_count": null,
   "id": "0102f687",
   "metadata": {},
   "outputs": [],
   "source": [
    "\n",
    "# === Заполнить обязательно ===\n",
    "STUDENT = {\n",
    "    \"first_name\": \"Имя\",\n",
    "    \"last_name\": \"Фамилия\",\n",
    "    \"group\": \"Группа\",\n",
    "    \"task_id\": \"ORTHO-01\"\n",
    "}\n",
    "assert STUDENT[\"first_name\"] != \"Имя\", \"Заполните first_name\"\n",
    "assert STUDENT[\"last_name\"]  != \"Фамилия\", \"Заполните last_name\"\n",
    "assert STUDENT[\"group\"]      != \"Группа\", \"Заполните group\"\n",
    "print(\"✔ Student Info OK\")\n"
   ]
  },
  {
   "cell_type": "markdown",
   "id": "8d55ed98",
   "metadata": {},
   "source": [
    "## Task 1 — Реализовать Грама–Шмидта (30 баллов)\n",
    "Реализуй функцию `my_gram_schmidt(V)` — возвращает ортонормированный базис."
   ]
  },
  {
   "cell_type": "code",
   "execution_count": null,
   "id": "707cfdde",
   "metadata": {},
   "outputs": [],
   "source": [
    "\n",
    "import numpy as np\n",
    "SCORE = 0  # накапливаем баллы\n",
    "\n",
    "def my_gram_schmidt(V: np.ndarray) -> np.ndarray:\n",
    "    U = []\n",
    "    for v in V.astype(float):\n",
    "        for u in U:\n",
    "            v = v - np.dot(v, u) * u\n",
    "        n = np.linalg.norm(v)\n",
    "        if n > 1e-12:\n",
    "            U.append(v / n)\n",
    "    return np.array(U)\n",
    "\n",
    "# [TEST] (автобаллы)\n",
    "V = np.array([[1, 1, 0], [1, 0, 1], [2, 1, 1]], dtype=float)\n",
    "U = my_gram_schmidt(V)\n",
    "# проверка формы и ортонормальности\n",
    "assert U.shape[0] >= 2, \"Ожидаем минимум 2 вектора в базисе\"\n",
    "# проверяем почти ортогональность\n",
    "ok_orth = True\n",
    "for i in range(len(U)):\n",
    "    for j in range(i+1, len(U)):\n",
    "        if abs(np.dot(U[i], U[j])) > 1e-6:\n",
    "            ok_orth = False\n",
    "assert ok_orth, \"Векторы не ортогональны\"\n",
    "# проверка норм\n",
    "ok_norm = np.allclose(np.linalg.norm(U, axis=1), 1, atol=1e-6)\n",
    "assert ok_norm, \"Векторы не нормированы\"\n",
    "SCORE += 30\n",
    "print(\"✔ Task 1 passed: +30\")\n"
   ]
  },
  {
   "cell_type": "markdown",
   "id": "77a95f82",
   "metadata": {},
   "source": [
    "## Task 2 — PCA на Iris (30 баллов)\n",
    "Вычисли PCA до 2 компонент и верни `explained_variance_ratio_` как `VAR2`. Сделай scatterplot (PC1 vs PC2)."
   ]
  },
  {
   "cell_type": "code",
   "execution_count": null,
   "id": "a1fc1e19",
   "metadata": {},
   "outputs": [],
   "source": [
    "\n",
    "import pandas as pd\n",
    "import matplotlib.pyplot as plt\n",
    "from sklearn.datasets import load_iris\n",
    "from sklearn.decomposition import PCA\n",
    "\n",
    "iris = load_iris()\n",
    "X = iris.data\n",
    "y = iris.target\n",
    "\n",
    "pca = PCA(n_components=2)\n",
    "X_pca = pca.fit_transform(X)\n",
    "VAR2 = float(pca.explained_variance_ratio_.sum())\n",
    "\n",
    "# [TEST]\n",
    "assert 0.6 <= VAR2 <= 1.0, f\"Слишком низкая суммарная дисперсия для 2 PC: {VAR2}\"\n",
    "plt.scatter(X_pca[:, 0], X_pca[:, 1], c=y)\n",
    "plt.title(\"Iris PCA (2D)\")\n",
    "plt.xlabel(\"PC1\")\n",
    "plt.ylabel(\"PC2\")\n",
    "plt.show()\n",
    "SCORE += 30\n",
    "print(\"✔ Task 2 passed: +30\")\n"
   ]
  },
  {
   "cell_type": "markdown",
   "id": "49a3e1ba",
   "metadata": {},
   "source": [
    "## Task 3 — Регуляризация (Ridge) и кривая ошибки (40 баллов)\n",
    "Обучи Ridge на первых 2 признаках Iris. Подбери `alpha` из списка и сохрани лучший как `BEST_ALPHA`, минимальную MSE — как `BEST_MSE`. Построй график MSE от alpha."
   ]
  },
  {
   "cell_type": "code",
   "execution_count": null,
   "id": "d456c96b",
   "metadata": {},
   "outputs": [],
   "source": [
    "\n",
    "from sklearn.linear_model import Ridge\n",
    "from sklearn.model_selection import train_test_split\n",
    "from sklearn.metrics import mean_squared_error\n",
    "import numpy as np\n",
    "\n",
    "X2 = X[:, :2]\n",
    "X_train, X_test, y_train, y_test = train_test_split(X2, y, test_size=0.2, random_state=42)\n",
    "\n",
    "ALPHAS = [0.001, 0.01, 0.1, 1, 10, 100]\n",
    "mses = []\n",
    "for a in ALPHAS:\n",
    "    m = Ridge(alpha=a)\n",
    "    m.fit(X_train, y_train)\n",
    "    pred = m.predict(X_test)\n",
    "    mses.append(mean_squared_error(y_test, pred))\n",
    "\n",
    "BEST_MSE = float(min(mses))\n",
    "BEST_ALPHA = float(ALPHAS[int(np.argmin(mses))])\n",
    "\n",
    "# [TEST]\n",
    "assert BEST_MSE < 1.5, f\"Подозрительно большая MSE: {BEST_MSE}\"\n",
    "assert BEST_ALPHA in ALPHAS, \"BEST_ALPHA должен быть из заданного списка\"\n",
    "import matplotlib.pyplot as plt\n",
    "plt.plot(ALPHAS, mses, marker=\"o\")\n",
    "plt.xscale(\"log\")\n",
    "plt.xlabel(\"alpha\")\n",
    "plt.ylabel(\"MSE\")\n",
    "plt.title(\"Ridge: error vs alpha\")\n",
    "plt.show()\n",
    "SCORE += 40\n",
    "print(\"✔ Task 3 passed: +40\")\n"
   ]
  },
  {
   "cell_type": "markdown",
   "id": "03bc42e0",
   "metadata": {},
   "source": [
    "## [SUBMIT] — сформировать результат\n",
    "Запусти эту ячейку в конце. Она создаст файл `result.json`, который прочитает автопроверка."
   ]
  },
  {
   "cell_type": "code",
   "execution_count": null,
   "id": "5d2d6350",
   "metadata": {},
   "outputs": [],
   "source": [
    "\n",
    "import json, time, os\n",
    "\n",
    "def write_result(student: dict, score: int, extra: dict=None):\n",
    "    payload = {\n",
    "        \"student\": student,\n",
    "        \"score\": int(score),\n",
    "        \"timestamp\": int(time.time()),\n",
    "        \"extra\": extra or {}\n",
    "    }\n",
    "    with open(\"result.json\", \"w\", encoding=\"utf-8\") as f:\n",
    "        json.dump(payload, f, ensure_ascii=False, indent=2)\n",
    "    print(\"✔ result.json written\")\n",
    "\n",
    "write_result(STUDENT, SCORE, extra={\"VAR2\": VAR2, \"BEST_ALPHA\": BEST_ALPHA, \"BEST_MSE\": BEST_MSE})\n",
    "print(f\"TOTAL SCORE = {SCORE} / 100\")\n"
   ]
  }
 ],
 "metadata": {},
 "nbformat": 4,
 "nbformat_minor": 5
}
