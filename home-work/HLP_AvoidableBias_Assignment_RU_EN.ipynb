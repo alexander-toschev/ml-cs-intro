{
 "cells": [
  {
   "cell_type": "markdown",
   "id": "fd576177",
   "metadata": {},
   "source": [
    "\n",
    "# 🧠 Human-Level Performance, Avoidable Bias & Surpassing Human Performance  \n",
    "## Лабораторная работа / Laboratory Assignment\n",
    "\n",
    "**Course:** ML Intro  \n",
    "**Runtime:** ~20–30 min on Colab GPU  \n",
    "\n",
    "---\n",
    "\n",
    "### 🇷🇺 Описание\n",
    "Вы изучите, как сравнение модели с человеком помогает анализировать ошибки и улучшать качество модели.  \n",
    "Будем вычислять **avoidable bias** и **variance**, а также рассуждать о достижении и превышении уровня человека.\n",
    "\n",
    "### 🇬🇧 Description\n",
    "You will learn how comparing a model to human performance helps analyze errors and improve model quality.  \n",
    "We will compute **avoidable bias** and **variance**, and discuss reaching and surpassing the human-level benchmark.\n"
   ]
  },
  {
   "cell_type": "markdown",
   "id": "a72377a9",
   "metadata": {},
   "source": [
    "\n",
    "## 🎯 Цели / Goals\n",
    "\n",
    "| 🇷🇺 Цель | 🇬🇧 Goal |\n",
    "|---|---|\n",
    "| Понять разницу между bias и variance. | Understand the difference between bias and variance. |\n",
    "| Оценивать avoidable bias относительно человека. | Compute avoidable bias relative to a human benchmark. |\n",
    "| Провести mini-optimization для улучшения Dev/Test. | Perform a small optimization to improve Dev/Test. |\n",
    "| Осознать, когда модель превосходит человека и что это значит. | Reflect on what it means to surpass human-level performance. |\n"
   ]
  },
  {
   "cell_type": "markdown",
   "id": "9b3789a6",
   "metadata": {},
   "source": [
    "\n",
    "## 📋 Что нужно сделать / What to Do\n",
    "\n",
    "1️⃣ **Student Info:** заполните имя, группу.  \n",
    "2️⃣ **Data:** подготовьте Train/Dev/Test и лоадеры.  \n",
    "3️⃣ **Model:** реализуйте CNN и `evaluate`.  \n",
    "4️⃣ **Baseline:** обучите, посчитайте Train/Dev/Test, bias/variance.  \n",
    "5️⃣ **Visualization:** постройте график Human vs Train/Dev/Test.  \n",
    "6️⃣ **Hyperparam Search:** реализация поиска `lr × weight_decay`.  \n",
    "7️⃣ **Post-opt Bias/Variance:** расчёт после оптимизации.  \n",
    "8️⃣ **Reflection:** ответьте на 3 вопроса.  \n",
    "9️⃣ **Auto-Grader & Export:** получите счёт и JSON.\n"
   ]
  },
  {
   "cell_type": "code",
   "execution_count": 1,
   "id": "0c58ebf9",
   "metadata": {},
   "outputs": [
    {
     "name": "stdout",
     "output_type": "stream",
     "text": [
      "✔ Student Info OK\n",
      "Student: Doe John\n",
      "Human reference accuracy (%): 98.0\n"
     ]
    }
   ],
   "source": [
    "\n",
    "# @title 1) Student Info & Config\n",
    "# All code comments are in English.\n",
    "\n",
    "\n",
    "# === ОБЯЗАТЕЛЬНО ЗАПОЛНИТЬ ===\n",
    "full_name = \"Doe John\"     # например: \"Тощев Александр\"\n",
    "student_group = \"11-111\"      # например: \"208\"\n",
    "assignment_id = \"HLP_AvoidableBias\"\n",
    "assert full_name != \"Фамилия Имя\", \"Заполните full_name\"\n",
    "assert student_group != \"Группа\", \"Заполните student_group\"\n",
    "print(\"✔ Student Info OK\")\n",
    "\n",
    "# Typical human accuracy (benchmark) for MNIST may be ~97-99%.\n",
    "HUMAN_ACCURACY = 98.0  # @param {type:\"number\"}\n",
    "\n",
    "print(\"Student:\", full_name)\n",
    "print(\"Human reference accuracy (%):\", HUMAN_ACCURACY)\n"
   ]
  },
  {
   "cell_type": "code",
   "execution_count": 2,
   "id": "5db6586e-157c-48e8-835f-b45ddc784218",
   "metadata": {},
   "outputs": [
    {
     "name": "stdout",
     "output_type": "stream",
     "text": [
      "Окно приёма: 2025-10-06T09:00:00-04:00 — 2025-10-20T23:59:00-04:00 (UTC)\n",
      "Время сдачи: 2025-10-06T11:12:47.399253+00:00 (UTC)\n"
     ]
    }
   ],
   "source": [
    "\n",
    "from datetime import datetime, timezone, timedelta\n",
    "\n",
    "# Установите окна приёма (пример):\n",
    "\n",
    "start_at_iso = \"2025-10-06T09:00-04:00\"  #@param {type:\"string\"}\n",
    "due_at_iso   = \"2025-10-20T23:59-04:00\"  #@param {type:\"string\"}\n",
    "start_dt = datetime.fromisoformat(start_at_iso)\n",
    "due_dt   = datetime.fromisoformat(due_at_iso)\n",
    "# Для протокола: время сдачи берём текущее (можно заменить на mtime файла)\n",
    "import os\n",
    "from datetime import datetime, timezone\n",
    "\n",
    "# 📅 Add submission date based on file modification time\n",
    "try:\n",
    "    nb_path = __file__ if \"__file__\" in globals() else \"HLP_AvoidableBias_Assignment_RU_EN.ipynb\"\n",
    "    mtime = os.path.getmtime(nb_path)\n",
    "    submission_dt = datetime.fromtimestamp(mtime, tz=timezone.utc)\n",
    "except Exception:\n",
    "    submission_dt = datetime.utcnow().replace(tzinfo=timezone.utc)\n",
    "\n",
    "def penalty_fraction(start_dt, due_dt, submission_dt):\n",
    "    \"\"\"Возвращает долю штрафа [0..1].\n",
    "    0 — без штрафа (<= due_dt). Линейно растёт от due_dt к due_dt + (due_dt - start_dt).\n",
    "    Не выходит за 1.0.\n",
    "    \"\"\"\n",
    "    if submission_dt <= due_dt:\n",
    "        return 0.0\n",
    "    total = (due_dt - start_dt).total_seconds()\n",
    "    late  = (submission_dt - due_dt).total_seconds()\n",
    "    if total <= 0:\n",
    "        return 1.0 if late > 0 else 0.0\n",
    "    return min(1.0, max(0.0, late / total))\n",
    "\n",
    "print(f\"Окно приёма: {start_dt.isoformat()} — {due_dt.isoformat()} (UTC)\")\n",
    "print(f\"Время сдачи: {submission_dt.isoformat()} (UTC)\")"
   ]
  },
  {
   "cell_type": "markdown",
   "id": "97cca25c",
   "metadata": {},
   "source": [
    "\n",
    "## 2) ⚙️ Setup & Imports\n",
    "\n",
    "**🇷🇺** Установки (при необходимости) и импорты.  \n",
    "**🇬🇧** Installs (if needed) and imports.\n"
   ]
  },
  {
   "cell_type": "code",
   "execution_count": 3,
   "id": "37e10d49",
   "metadata": {},
   "outputs": [
    {
     "name": "stdout",
     "output_type": "stream",
     "text": [
      "Torch: 2.7.1+cu126 | CUDA: True | Device: cuda\n"
     ]
    }
   ],
   "source": [
    "\n",
    "# @title 2) Setup & Imports\n",
    "# If running on Colab, most are preinstalled. Uncomment if needed.\n",
    "# !pip install -q torch torchvision torchaudio scikit-learn matplotlib\n",
    "\n",
    "import os, math, time, random, json\n",
    "import numpy as np\n",
    "import torch, torch.nn as nn, torch.nn.functional as F\n",
    "from torch.utils.data import DataLoader, random_split\n",
    "import torchvision\n",
    "import torchvision.transforms as T\n",
    "import matplotlib.pyplot as plt\n",
    "from sklearn.metrics import accuracy_score\n",
    "\n",
    "DEVICE = torch.device(\"cuda\" if torch.cuda.is_available() else \"cpu\")\n",
    "SEED = 42\n",
    "torch.manual_seed(SEED); np.random.seed(SEED); random.seed(SEED)\n",
    "\n",
    "print(\"Torch:\", torch.__version__, \"| CUDA:\", torch.cuda.is_available(), \"| Device:\", DEVICE)\n"
   ]
  },
  {
   "cell_type": "markdown",
   "id": "56f840b6",
   "metadata": {},
   "source": [
    "\n",
    "## 3) 🧩 Assignment: Prepare Dataset (Train/Dev/Test)\n",
    "\n",
    "**🇷🇺 Что нужно сделать:**  \n",
    "Загрузите **MNIST**, разделите обучающую часть на **Train (50k)** и **Dev (10k)**,  \n",
    "создайте три `DataLoader`: `train_loader`, `dev_loader`, `test_loader`. Используйте `batch_size = 128`.\n",
    "\n",
    "**🇬🇧 What to do:**  \n",
    "Load **MNIST**, split the training set into **Train (50k)** and **Dev (10k)**,  \n",
    "create `train_loader`, `dev_loader`, `test_loader`. Use `batch_size = 128`.\n"
   ]
  },
  {
   "cell_type": "code",
   "execution_count": 4,
   "id": "09528be5",
   "metadata": {},
   "outputs": [
    {
     "name": "stdout",
     "output_type": "stream",
     "text": [
      "✅ Data ready: 50000 10000 10000\n"
     ]
    }
   ],
   "source": [
    "\n",
    "# @title 3) YOUR CODE HERE — Data setup\n",
    "# Common transform (grayscale → tensor)\n",
    "transform = T.Compose([T.ToTensor()])\n",
    "\n",
    "# ==== YOUR CODE HERE ====\n",
    "# 1) Load MNIST train_full and test_ds\n",
    "train_full =   # YOUR CODE HERE\n",
    "test_ds    =   # YOUR CODE HERE\n",
    "\n",
    "# 2) Split train_full into train_ds (50k) and dev_ds (10k)\n",
    "train_size = 50_000\n",
    "dev_size   = len(train_full) - train_size\n",
    "train_ds, dev_ds = random_split(\n",
    "    train_full, [train_size, dev_size],\n",
    "    generator=torch.Generator().manual_seed(SEED)  \n",
    ")\n",
    "\n",
    "# 3) Create DataLoaders\n",
    "BATCH = 128 \n",
    "train_loader = DataLoader(train_ds, batch_size=BATCH, shuffle=True,  num_workers=2, pin_memory=True)   # YOUR CODE HERE\n",
    "dev_loader   = DataLoader(dev_ds,   batch_size=BATCH, shuffle=False, num_workers=2, pin_memory=True)   # YOUR CODE HERE\n",
    "test_loader  = DataLoader(test_ds,  batch_size=BATCH, shuffle=False, num_workers=2, pin_memory=True)   # YOUR CODE HERE\n",
    "\n",
    "completed_data = True\n",
    "print(\"✅ Data ready:\", len(train_ds), len(dev_ds), len(test_ds))\n"
   ]
  },
  {
   "cell_type": "markdown",
   "id": "2703666c",
   "metadata": {},
   "source": [
    "\n",
    "## 4) 🧩 Assignment: Build the Model (CNN)\n",
    "\n",
    "**🇷🇺 Что нужно сделать:**  \n",
    "Реализуйте простую CNN:  \n",
    "Conv(1→16)  → Conv(16→32) → Pool → FC(32×7×7→128) → FC(128→10).  \n",
    "Создайте хелпер `evaluate(model, loader)` для подсчёта accuracy.\n",
    "\n",
    "**🇬🇧 What to do:**  \n",
    "Implement a small CNN:  \n",
    "Conv(1→16) → Conv(16→32) → Pool → FC(32×7×7→128) → FC(128→10).  \n",
    "Define an `evaluate(model, loader)` helper to compute accuracy.\n"
   ]
  },
  {
   "cell_type": "code",
   "execution_count": 5,
   "id": "c30cc707",
   "metadata": {},
   "outputs": [
    {
     "name": "stdout",
     "output_type": "stream",
     "text": [
      "✅ Model defined.\n"
     ]
    }
   ],
   "source": [
    "\n",
    "# @title 4) YOUR CODE HERE — CNN model\n",
    "import torch\n",
    "import torch.nn as nn\n",
    "import torch.nn.functional as F\n",
    "from sklearn.metrics import accuracy_score\n",
    "\n",
    "DEVICE = torch.device(\"cuda\" if torch.cuda.is_available() else \"cpu\")\n",
    "\n",
    "# ==== YOUR CODE HERE ====\n",
    "class SmallCNN(nn.Module):\n",
    "    def __init__(self):\n",
    "        super().__init__()\n",
    "        self.conv1 =    # YOUR CODE HERE\n",
    "        self.conv2 =   # YOUR CODE HERE\n",
    "        self.pool  =                 # YOUR CODE HERE\n",
    "        self.fc1   =           # YOUR CODE HERE\n",
    "        self.fc2   =                # YOUR CODE HERE\n",
    "\n",
    "    def forward(self, x):\n",
    "        x = self.pool(F.relu(self.conv1(x)))  # 1x28x28 -> 16x14x14\n",
    "        x = self.pool(F.relu(self.conv2(x)))  # 16x14x14 -> 32x7x7\n",
    "        x = x.view(x.size(0), -1)\n",
    "        x = F.relu(self.fc1(x))\n",
    "        x = self.fc2(x)\n",
    "        return x\n",
    "\n",
    "def evaluate(model, loader, device=DEVICE):\n",
    "    model.eval()\n",
    "    y_pred, y_true = [], []\n",
    "    with torch.no_grad():\n",
    "        for xb, yb in loader:\n",
    "            xb, yb = xb.to(device), yb.to(device)\n",
    "            logits = model(xb)\n",
    "            preds = torch.argmax(logits, dim=1)\n",
    "            y_pred.extend(preds.cpu().numpy())\n",
    "            y_true.extend(yb.cpu().numpy())\n",
    "    return 100.0 * accuracy_score(y_true, y_pred)\n",
    "\n",
    "completed_model = True\n",
    "print(\"✅ Model defined.\")\n"
   ]
  },
  {
   "cell_type": "markdown",
   "id": "3d8ac20c",
   "metadata": {},
   "source": [
    "\n",
    "## 5) 🧩 Assignment: Train Baseline & Compute Bias/Variance\n",
    "\n",
    "**🇷🇺 Что нужно сделать:**  \n",
    "1) Обучите `SmallCNN` на Train (3 эпохи),  \n",
    "2) Получите точности на Train/Dev/Test,  \n",
    "3) Рассчитайте: `avoidable_bias = HUMAN_ACCURACY - train_acc`, `variance = dev_acc - train_acc`.\n",
    "\n",
    "**🇬🇧 What to do:**  \n",
    "1) Train `SmallCNN` on Train (3 epochs),  \n",
    "2) Compute Train/Dev/Test accuracies,  \n",
    "3) Calculate: `avoidable_bias = HUMAN_ACCURACY - train_acc`, `variance = dev_acc - train_acc`.\n"
   ]
  },
  {
   "cell_type": "code",
   "execution_count": 6,
   "id": "22d5a8fd",
   "metadata": {},
   "outputs": [
    {
     "name": "stdout",
     "output_type": "stream",
     "text": [
      "Epoch 01 | loss=0.3800 | dev_acc=95.91%\n",
      "Epoch 02 | loss=0.0935 | dev_acc=97.80%\n",
      "Epoch 03 | loss=0.0633 | dev_acc=98.03%\n",
      "✅ Baseline done.\n",
      "Train=98.47% Dev=98.03% Test=98.37%\n",
      "Avoidable bias: 0.00 pp | Variance: 0.00 pp\n"
     ]
    }
   ],
   "source": [
    "\n",
    "# @title 5) YOUR CODE HERE — Train baseline & compute bias/variance\n",
    "import torch.optim as optim\n",
    "\n",
    "def train_one_epoch(model, loader, opt, device=DEVICE):\n",
    "    model.train()\n",
    "    total_loss = 0.0\n",
    "    for xb, yb in loader:\n",
    "        xb, yb = xb.to(device), yb.to(device)\n",
    "        opt.zero_grad(set_to_none=True)\n",
    "        logits = model(xb)\n",
    "        loss = F.cross_entropy(logits, yb)\n",
    "        loss.backward()\n",
    "        opt.step()\n",
    "        total_loss += loss.item() * xb.size(0)\n",
    "    return total_loss / len(loader.dataset)\n",
    "\n",
    "def train_model(epochs=3, lr=1e-3, weight_decay=0.0):\n",
    "    # ==== YOUR CODE HERE ====\n",
    "    model =\n",
    "    opt = optim.Adam(model.parameters(), lr=lr, weight_decay=weight_decay)\n",
    "    best_dev, best_state = -1.0, None\n",
    "    for ep in range(1, epochs+1):\n",
    "        loss = train_one_epoch(model, train_loader, opt)\n",
    "        dv_acc = evaluate(model, dev_loader)\n",
    "        if dv_acc > best_dev:\n",
    "            best_dev = dv_acc\n",
    "            best_state = {k:v.cpu() for k,v in model.state_dict().items()}\n",
    "        print(f\"Epoch {ep:02d} | loss={loss:.4f} | dev_acc={dv_acc:.2f}%\")\n",
    "    if best_state:\n",
    "        model.load_state_dict({k:v.to(DEVICE) for k,v in best_state.items()})\n",
    "    tr_acc = evaluate(model, train_loader)\n",
    "    dv_acc = evaluate(model, dev_loader)\n",
    "    ts_acc = evaluate(model, test_loader)\n",
    "    return model, tr_acc, dv_acc, ts_acc\n",
    "\n",
    "# ==== YOUR CODE HERE ====\n",
    "BASELINE_EPOCHS = \n",
    "baseline_model, baseline_train_acc, baseline_dev_acc, baseline_test_acc = train_model(epochs=BASELINE_EPOCHS)\n",
    "\n",
    "avoidable_bias =  # YOUR CODE HERE\n",
    "variance       =   # YOUR CODE HERE\n",
    "\n",
    "print(f\"✅ Baseline done.\\nTrain={baseline_train_acc:.2f}% Dev={baseline_dev_acc:.2f}% Test={baseline_test_acc:.2f}%\")\n",
    "print(f\"Avoidable bias: {avoidable_bias:.2f} pp | Variance: {variance:.2f} pp\")\n",
    "completed_baseline = True\n"
   ]
  },
  {
   "cell_type": "markdown",
   "id": "628d649b",
   "metadata": {},
   "source": [
    "\n",
    "## 6) 🧩 Assignment: Visualization\n",
    "\n",
    "**🇷🇺 Что нужно сделать:**  \n",
    "Постройте бар-график Human vs Train/Dev/Test. Добавьте краткий комментарий (markdown) из 1–2 предложений о разрыве и его смысле.\n",
    "\n",
    "**🇬🇧 What to do:**  \n",
    "Plot a bar chart Human vs Train/Dev/Test. Add a short (1–2 sentence) markdown comment on the gap and its meaning.\n"
   ]
  },
  {
   "cell_type": "code",
   "execution_count": 7,
   "id": "f4d9e2f2",
   "metadata": {},
   "outputs": [
    {
     "data": {
      "image/png": "[encoded data removed]",
      "text/plain": [
       "<Figure size 600x400 with 1 Axes>"
      ]
     },
     "metadata": {},
     "output_type": "display_data"
    }
   ],
   "source": [
    "\n",
    "# @title 6) YOUR CODE HERE — Visualization\n",
    "metrics = {\n",
    "    \"Human\": HUMAN_ACCURACY,\n",
    "    \"Train\": baseline_train_acc,\n",
    "    \"Dev\":   baseline_dev_acc,\n",
    "    \"Test\":  baseline_test_acc\n",
    "}\n",
    "\n",
    "# ==== YOUR CODE HERE ====\n",
    "plt.figure(figsize=(6,4))\n",
    "plt.bar(list(metrics.keys()), list(metrics.values()))  # YOUR CODE HERE\n",
    "plt.ylim(0, 100)\n",
    "plt.ylabel(\"Accuracy (%)\")\n",
    "plt.title(\"Human vs Model (baseline)\")\n",
    "plt.show()\n",
    "\n",
    "completed_viz = True\n"
   ]
  },
  {
   "cell_type": "markdown",
   "id": "5afb0912",
   "metadata": {},
   "source": [
    "\n",
    "## 7) 🧩 Assignment: Implement Hyperparameter Search (lr × weight_decay)\n",
    "\n",
    "**🇷🇺 Что нужно сделать:**  \n",
    "Реализуйте перебор гиперпараметров `lr × weight_decay`, обучите модели и выберите лучшую по **Dev accuracy**.  \n",
    "Сохраните все результаты в `student_search_results` и лучшую конфигурацию — в `student_best`.\n",
    "\n",
    "**Требования:**  \n",
    "- Перебрать каждую пару `(lr, weight_decay)`.  \n",
    "- Для каждой пары обучить модель `epochs=SEARCH_EPOCHS`.  \n",
    "- Сохранить для каждой пары: `{\"lr\",\"wd\",\"train_acc\",\"dev_acc\",\"test_acc\"}`.  \n",
    "- Итог: `student_best = {\"lr\",\"wd\",\"train_acc\",\"dev_acc\",\"test_acc\"}` с максимальной `dev_acc`.\n",
    "\n",
    "**🇬🇧 What to do:**  \n",
    "Implement a grid over `lr × weight_decay`, train models, and pick the best by **Dev accuracy**.  \n",
    "Store all runs in `student_search_results` and the winner in `student_best`.\n",
    "\n",
    "**Requirements:**  \n",
    "- Iterate over every `(lr, weight_decay)` pair.  \n",
    "- Train for `epochs=SEARCH_EPOCHS` for each pair.  \n",
    "- Save for each run: `{\"lr\",\"wd\",\"train_acc\",\"dev_acc\",\"test_acc\"}`.  \n",
    "- Final: `student_best = {\"lr\",\"wd\",\"train_acc\",\"dev_acc\",\"test_acc\"}` with the highest `dev_acc`.\n"
   ]
  },
  {
   "cell_type": "code",
   "execution_count": null,
   "id": "bca4676a",
   "metadata": {},
   "outputs": [],
   "source": [
    "\n",
    "# @title 7) YOUR CODE HERE — Hyperparameter Search (grid over lr × weight_decay)\n",
    "# Hints:\n",
    "# - Reuse train_model(epochs=..., lr=..., weight_decay=...) defined above.\n",
    "# - Keep student_search_results (list of dicts) and student_best (dict).\n",
    "\n",
    "# Suggested search space (you may adjust but keep it Colab-friendly):\n",
    "SEARCH_EPOCHS =   # @param {type:\"number\"}  # small for speed; can increase on GPU\n",
    "LRS = []  # @param\n",
    "WDS = []   # @param\n",
    "\n",
    "# Containers the grader will look for:\n",
    "student_search_results = []  # list of dicts\n",
    "student_best = None          # dict with keys: lr, wd, train_acc, dev_acc, test_acc\n",
    "\n",
    "# ==== YOUR CODE HERE ====\n",
    "for lr in LRS:\n",
    "    for wd in WDS:\n",
    "        model, tr_acc, dv_acc, ts_acc =  # YOUR CODE HERE\n",
    "        run = {\"lr\": lr, \"wd\": wd, \"train_acc\": tr_acc, \"dev_acc\": dv_acc, \"test_acc\": ts_acc}\n",
    "        student_search_results.append(run)\n",
    "        if (student_best is None) or (dv_acc > student_best[\"dev_acc\"]):\n",
    "            student_best =   # YOUR CODE HERE\n",
    "\n",
    "print(f\"Total runs: {len(student_search_results)}\")\n",
    "print(\"Top by Dev:\", student_best)\n"
   ]
  },
  {
   "cell_type": "markdown",
   "id": "bb20c532",
   "metadata": {},
   "source": [
    "\n",
    "## 8) 🧩 Assignment: Bias/Variance *after* Optimization\n",
    "\n",
    "**🇷🇺 Что нужно сделать:**  \n",
    "Используя `student_best`, пересчитайте **avoidable bias** и **variance**, визуализируйте Human vs Train*/Dev*/Test*.\n",
    "\n",
    "**🇬🇧 What to do:**  \n",
    "Using `student_best`, recompute **avoidable bias** and **variance**, and visualize Human vs Train*/Dev*/Test*.\n"
   ]
  },
  {
   "cell_type": "code",
   "execution_count": 9,
   "id": "74457aeb",
   "metadata": {},
   "outputs": [
    {
     "name": "stdout",
     "output_type": "stream",
     "text": [
      "After optimization -> Dev: 98.62% | Test: 98.76%\n",
      "Avoidable bias: 0.00 pp | Variance: 0.00 pp\n"
     ]
    },
    {
     "data": {
      "image/png": "[encoded data removed]",
      "text/plain": [
       "<Figure size 600x400 with 1 Axes>"
      ]
     },
     "metadata": {},
     "output_type": "display_data"
    }
   ],
   "source": [
    "\n",
    "# @title 8) YOUR CODE HERE — Post-optimization bias/variance\n",
    "if student_best is None:\n",
    "    raise RuntimeError(\"student_best is None. Please complete the hyperparameter search cell first.\")\n",
    "\n",
    "# ==== YOUR CODE HERE ====\n",
    "opt_avoidable_bias =   # YOUR CODE HERE\n",
    "opt_variance       =   # YOUR CODE HERE\n",
    "\n",
    "print(f\"After optimization -> Dev: {student_best['dev_acc']:.2f}% | Test: {student_best['test_acc']:.2f}%\")\n",
    "print(f\"Avoidable bias: {opt_avoidable_bias:.2f} pp | Variance: {opt_variance:.2f} pp\")\n",
    "\n",
    "plt.figure(figsize=(6,4))\n",
    "plt.bar([\"Human\",\"Train*\",\"Dev*\",\"Test*\"],\n",
    "        [HUMAN_ACCURACY, student_best[\"train_acc\"], student_best[\"dev_acc\"], student_best[\"test_acc\"]])  # YOUR CODE HERE\n",
    "plt.ylim(0, 100)\n",
    "plt.ylabel(\"Accuracy (%)\")\n",
    "plt.title(\"Performance after optimization (asterisk = tuned)\")\n",
    "plt.show()\n"
   ]
  },
  {
   "cell_type": "markdown",
   "id": "d713dbf5",
   "metadata": {},
   "source": [
    "\n",
    "## 9) 🧩 Assignment: Reflection (RU/EN)\n",
    "\n",
    "**🇷🇺 Напишите короткие ответы (≥ 2–3 предложения на пункт):**  \n",
    "1) Почему после превышения уровня человека **human-level** перестаёт быть потолком?  \n",
    "2) Почему человеческий уровень — не конечный предел?  \n",
    "3) Примеры систем, превзошедших человека и почему.\n",
    "\n",
    "**🇬🇧 Write short answers (≥ 2–3 sentences each):**  \n",
    "1) Why does *human-level* stop being a ceiling once surpassed?  \n",
    "2) Why is human performance not the final limit?  \n",
    "3) Examples of systems surpassing humans and why.\n"
   ]
  },
  {
   "cell_type": "code",
   "execution_count": 10,
   "id": "484ca863",
   "metadata": {},
   "outputs": [
    {
     "name": "stdout",
     "output_type": "stream",
     "text": [
      "Reflection answers recorded.\n"
     ]
    }
   ],
   "source": [
    "\n",
    "# @title 9) YOUR CODE HERE — Reflection (edit the strings)\n",
    "REFLECTION = {\n",
    "    # ==== YOUR CODE HERE ====\n",
    "    \"when_surpass_human_stop_using_human_as_ceiling\": \"YOUR ANSWER HERE\",\n",
    "    \"why_human_not_final_limit\": \"YOUR ANSWER HERE\",\n",
    "    \"examples_surpassing_human\": \"YOUR ANSWER HERE\"\n",
    "}\n",
    "print(\"Reflection answers recorded.\")\n",
    "completed_reflection = True\n"
   ]
  },
  {
   "cell_type": "markdown",
   "id": "83186b0a",
   "metadata": {},
   "source": [
    "\n",
    "## 10) ✅ Auto-Graders (checks all assignments)\n",
    "\n",
    "**🇷🇺** Автопроверка проверяет: Data, Model, Baseline, Bias/Variance, Visualization, Поиск гиперпараметров, Улучшение/достижение уровня человека, Reflection.  \n",
    "**🇬🇧** The grader checks: Data, Model, Baseline, Bias/Variance, Visualization, Hyperparam Search, Improvement/Human-level, Reflection.\n"
   ]
  },
  {
   "cell_type": "code",
   "execution_count": 12,
   "id": "769e8d35",
   "metadata": {},
   "outputs": [],
   "source": [
    "\n",
    "# @title 10) Auto-Graders (checks all assignments)\n",
    "from datetime import datetime\n",
    "\n",
    "def _nonempty_str(x): \n",
    "    return isinstance(x, str) and len(x.strip()) >= 10\n",
    "\n",
    "SCORES = {\n",
    "    \"data_ok\": 0,\n",
    "    \"model_ok\": 0,\n",
    "    \"baseline_ok\": 0,\n",
    "    \"biasvar_ok\": 0,\n",
    "    \"viz_ok\": 0,\n",
    "    \"search_ok\": 0,\n",
    "    \"improvement_or_human\": 0,\n",
    "    \"reflection_ok\": 0\n",
    "}\n",
    "\n",
    "# 1) Data loaders present\n",
    "try:\n",
    "    assert completed_data\n",
    "    for obj in [train_loader, dev_loader, test_loader]:\n",
    "        assert obj is not None\n",
    "    SCORES[\"data_ok\"] = 1\n",
    "except Exception as e:\n",
    "    print(\"[grader] Data section incomplete:\", e)\n",
    "\n",
    "# 2) Model present\n",
    "try:\n",
    "    assert completed_model\n",
    "    m = SmallCNN().to(DEVICE)\n",
    "    assert hasattr(m, \"fc2\")\n",
    "    SCORES[\"model_ok\"] = 1\n",
    "except Exception as e:\n",
    "    print(\"[grader] Model section incomplete:\", e)\n",
    "\n",
    "# 3) Baseline trained\n",
    "try:\n",
    "    assert completed_baseline\n",
    "    assert isinstance(baseline_train_acc, float) and isinstance(baseline_dev_acc, float) and isinstance(baseline_test_acc, float)\n",
    "    SCORES[\"baseline_ok\"] = 1\n",
    "except Exception as e:\n",
    "    print(\"[grader] Baseline training incomplete:\", e)\n",
    "\n",
    "# 4) Bias/Variance computed (baseline)\n",
    "try:\n",
    "    assert isinstance(avoidable_bias, float) and isinstance(variance, float)\n",
    "    SCORES[\"biasvar_ok\"] = 1\n",
    "except Exception as e:\n",
    "    print(\"[grader] Bias/Variance not computed:\", e)\n",
    "\n",
    "# 5) Visualization done (soft check)\n",
    "try:\n",
    "    assert completed_viz\n",
    "    SCORES[\"viz_ok\"] = 1\n",
    "except Exception as e:\n",
    "    print(\"[grader] Visualization missing:\", e)\n",
    "\n",
    "# 6) Search implemented\n",
    "try:\n",
    "    assert isinstance(student_search_results, list) and len(student_search_results) >= 1\n",
    "    assert isinstance(student_best, dict)\n",
    "    for key in [\"lr\",\"wd\",\"train_acc\",\"dev_acc\",\"test_acc\"]:\n",
    "        assert key in student_best\n",
    "    SCORES[\"search_ok\"] = 1\n",
    "except Exception as e:\n",
    "    print(\"[grader] Search implementation incomplete:\", e)\n",
    "\n",
    "# 7) Improvement ≥ +2pp or reach human on Dev\n",
    "try:\n",
    "    improved = (float(student_best[\"dev_acc\"]) - float(baseline_dev_acc)) >= 2.0\n",
    "    reached_human = float(student_best[\"dev_acc\"]) >= float(HUMAN_ACCURACY)\n",
    "    if improved or reached_human:\n",
    "        SCORES[\"improvement_or_human\"] = 1\n",
    "    else:\n",
    "        print(f\"[grader] Need +2pp improvement or >= human. Baseline Dev={baseline_dev_acc:.2f}, best Dev={student_best['dev_acc']:.2f}.\")\n",
    "except Exception as e:\n",
    "    print(\"[grader] Improvement check failed:\", e)\n",
    "\n",
    "# 8) Reflection\n",
    "try:\n",
    "    ok = all(k in REFLECTION and _nonempty_str(REFLECTION[k]) for k in [\n",
    "        \"when_surpass_human_stop_using_human_as_ceiling\",\n",
    "        \"why_human_not_final_limit\",\n",
    "        \"examples_surpassing_human\"\n",
    "    ])\n",
    "    if ok:\n",
    "        SCORES[\"reflection_ok\"] = 1\n",
    "    else:\n",
    "        print(\"[grader] Reflection fields are empty or too short.\")\n",
    "except Exception as e:\n",
    "    print(\"[grader] Reflection check failed:\", e)\n",
    "\n",
    "total = sum(SCORES.values())\n",
    "MAX = len(SCORES)\n",
    "\n",
    "\n"
   ]
  },
  {
   "cell_type": "markdown",
   "id": "4d98874f",
   "metadata": {},
   "source": [
    "\n",
    "## 11) 📤 Export Helpers\n",
    "\n",
    "**🇷🇺** Сохраните JSON одной строкой — удобно загружать в LMS/Drive.  \n",
    "**🇬🇧** Save the one-line JSON result — convenient for LMS/Drive uploads.\n"
   ]
  },
  {
   "cell_type": "markdown",
   "id": "e68ca8fc",
   "metadata": {},
   "source": [
    "\n",
    "### Extra A) Error Analysis\n",
    "**RU:** Выведите 12–16 неверных предсказаний Dev и обсудите паттерны.  \n",
    "**EN:** Show 12–16 wrong Dev predictions and discuss patterns.\n"
   ]
  },
  {
   "cell_type": "code",
   "execution_count": 13,
   "id": "5ccb4bc5",
   "metadata": {},
   "outputs": [
    {
     "data": {
      "image/png": "[encoded data removed]",
      "text/plain": [
       "<Figure size 1000x1000 with 16 Axes>"
      ]
     },
     "metadata": {},
     "output_type": "display_data"
    }
   ],
   "source": [
    "\n",
    "# @title Extra A) Error Analysis (show wrong predictions)\n",
    "def collect_wrong_preds(model, loader, max_items=16):\n",
    "    model.eval()\n",
    "    wrong = []\n",
    "    with torch.no_grad():\n",
    "        for xb, yb in loader:\n",
    "            xb, yb = xb.to(DEVICE), yb.to(DEVICE)\n",
    "            logits = model(xb)\n",
    "            preds = torch.argmax(logits, dim=1)\n",
    "            mask = preds != yb\n",
    "            idxs = torch.where(mask)[0]\n",
    "            for i in idxs:\n",
    "                wrong.append((xb[i].cpu(), int(yb[i].cpu()), int(preds[i].cpu())))\n",
    "                if len(wrong) >= max_items:\n",
    "                    return wrong\n",
    "    return wrong\n",
    "\n",
    "wrong = collect_wrong_preds(baseline_model, dev_loader, max_items=16)\n",
    "cols = 4\n",
    "rows = max(1, math.ceil(len(wrong)/cols))\n",
    "plt.figure(figsize=(10, 2.5*rows))\n",
    "for i, item in enumerate(wrong):\n",
    "    img, y_true, y_pred = item\n",
    "    plt.subplot(rows, cols, i+1)\n",
    "    plt.imshow(img.squeeze(0), cmap=\"gray\")\n",
    "    plt.title(f\"T:{y_true} P:{y_pred}\")\n",
    "    plt.axis(\"off\")\n",
    "plt.suptitle(\"Wrong predictions (baseline)\")\n",
    "plt.show()\n"
   ]
  },
  {
   "cell_type": "markdown",
   "id": "6b7c6565",
   "metadata": {},
   "source": [
    "\n",
    "### Extra B) Simple Augmentation\n",
    "**RU:** Попробуйте лёгкие аугментации (`RandomRotation`) и сравните метрики.  \n",
    "**EN:** Try light augmentation (`RandomRotation`) and compare metrics.\n"
   ]
  },
  {
   "cell_type": "code",
   "execution_count": 14,
   "id": "cc01cb44",
   "metadata": {},
   "outputs": [
    {
     "name": "stdout",
     "output_type": "stream",
     "text": [
      "[AUG] Epoch 01 | dev_acc=96.46%\n",
      "[AUG] Epoch 02 | dev_acc=97.69%\n",
      "[AUG] Epoch 03 | dev_acc=98.14%\n",
      "\n",
      "Augmented => Train:97.95% Dev:98.14% Test:98.44%\n",
      "Compare with baseline -> Dev:98.03% Test:98.37%\n"
     ]
    }
   ],
   "source": [
    "\n",
    "# @title Extra B) Simple Augmentation (try & compare)\n",
    "aug_transform = T.Compose([T.RandomRotation(10), T.ToTensor()])\n",
    "train_full_aug = torchvision.datasets.MNIST(root=\"./data\", train=True, download=True, transform=aug_transform)\n",
    "train_ds_aug, _ = random_split(train_full_aug, [50_000, len(train_full_aug)-50_000],\n",
    "                               generator=torch.Generator().manual_seed(SEED))\n",
    "train_loader_aug = DataLoader(train_ds_aug, batch_size=BATCH, shuffle=True, num_workers=2, pin_memory=True)\n",
    "\n",
    "def train_model_with_loader(train_loader, epochs=3, lr=1e-3, weight_decay=0.0):\n",
    "    model = SmallCNN().to(DEVICE)\n",
    "    opt = torch.optim.Adam(model.parameters(), lr=lr, weight_decay=weight_decay)\n",
    "    best_dev = -1.0\n",
    "    best_state = None\n",
    "    for ep in range(1, epochs+1):\n",
    "        train_one_epoch(model, train_loader, opt)\n",
    "        dv = evaluate(model, dev_loader)\n",
    "        if dv > best_dev:\n",
    "            best_dev = dv\n",
    "            best_state = {k:v.cpu() for k,v in model.state_dict().items()}\n",
    "        print(f\"[AUG] Epoch {ep:02d} | dev_acc={dv:.2f}%\")\n",
    "    model.load_state_dict({k:v.to(DEVICE) for k,v in best_state.items()})\n",
    "    return model, evaluate(model, train_loader), evaluate(model, dev_loader), evaluate(model, test_loader)\n",
    "\n",
    "aug_model, aug_tr, aug_dv, aug_ts = train_model_with_loader(train_loader_aug, epochs=3, lr=1e-3, weight_decay=0.0)\n",
    "print(f\"\\nAugmented => Train:{aug_tr:.2f}% Dev:{aug_dv:.2f}% Test:{aug_ts:.2f}%\")\n",
    "print(\"Compare with baseline -> Dev:{:.2f}% Test:{:.2f}%\".format(baseline_dev_acc, baseline_test_acc))\n"
   ]
  },
  {
   "cell_type": "code",
   "execution_count": 15,
   "id": "884a4464",
   "metadata": {},
   "outputs": [
    {
     "name": "stdout",
     "output_type": "stream",
     "text": [
      "Сырой балл: 100/100\n",
      "Штраф (доля): 0.0000\n",
      "Итоговый балл после штрафа: 100.00/100\n",
      "{\"name\": \"Doe John\", \"group\": \"11-111\", \"assignment\": \"HLP_AvoidableBias\", \"score\": 100.0}\n"
     ]
    }
   ],
   "source": [
    "\n",
    "import json\n",
    "\n",
    "# применяем штраф\n",
    "try:\n",
    "    pf = penalty_fraction(start_dt, due_dt, submission_dt)\n",
    "except NameError:\n",
    "    from datetime import timezone\n",
    "    pf = 0.0\n",
    "# ✅ Итоговый результат\n",
    "total = sum(SCORES.values())\n",
    "MAX =  len(SCORES)\n",
    "max_points = 100\n",
    "\n",
    "raw_score = round(100.0 * total / MAX)\n",
    "final_score = max(0.0, raw_score * (1.0 - min(1.0, pf)))\n",
    "\n",
    "print(f\"Сырой балл: {raw_score}/{max_points}\")\n",
    "print(f\"Штраф (доля): {pf:.4f}\")\n",
    "print(f\"Итоговый балл после штрафа: {final_score:.2f}/{max_points}\")\n",
    "\n",
    "# Последняя строка — JSON, который читает harness\n",
    "final = {\n",
    "    \"name\": full_name,\n",
    "    \"group\": student_group,\n",
    "    \"assignment\": assignment_id,\n",
    "    \"score\": float(final_score)\n",
    "}\n",
    "\n",
    "\n"
   ]
  },
  {
   "cell_type": "code",
   "execution_count": 16,
   "id": "72074a11-626e-48b3-ab15-d4abfff98159",
   "metadata": {},
   "outputs": [
    {
     "name": "stdout",
     "output_type": "stream",
     "text": [
      "{\"name\": \"Doe John\", \"group\": \"11-111\", \"assignment\": \"HLP_AvoidableBias\", \"score\": 100.0}\n"
     ]
    }
   ],
   "source": [
    "print(json.dumps(final, ensure_ascii=False))"
   ]
  },
  {
   "cell_type": "code",
   "execution_count": null,
   "id": "c972c1a4-047c-467b-b7fe-1a40b274d054",
   "metadata": {},
   "outputs": [],
   "source": []
  }
 ],
 "metadata": {
  "kernelspec": {
   "display_name": "Python 3 (ipykernel)",
   "language": "python",
   "name": "python3"
  },
  "language_info": {
   "codemirror_mode": {
    "name": "ipython",
    "version": 3
   },
   "file_extension": ".py",
   "mimetype": "text/x-python",
   "name": "python",
   "nbconvert_exporter": "python",
   "pygments_lexer": "ipython3",
   "version": "3.10.18"
  }
 },
 "nbformat": 4,
 "nbformat_minor": 5
}
