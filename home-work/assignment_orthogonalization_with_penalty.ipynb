{
 "cells": [
  {
   "cell_type": "markdown",
   "id": "8bb3955e",
   "metadata": {},
   "source": [
    "# 🧑‍🎓 Assignment: Orthogonalization in ML (with penalty & JSON output)\n",
    "Заполни **Student Info**, установи дедлайны, выполни задания. В конце — вывод баллов и финальный JSON одной строкой.\n",
    "\n",
    "\n",
    "Fill in **Student Info**, set the deadlines, complete the tasks. At the end — output the scores and the final JSON in a single line."
   ]
  },
  {
   "cell_type": "markdown",
   "id": "f8559220",
   "metadata": {},
   "source": [
    "## Student Info"
   ]
  },
  {
   "cell_type": "code",
   "execution_count": null,
   "id": "a4ec2e3c",
   "metadata": {},
   "outputs": [],
   "source": [
    "\n",
    "# === ОБЯЗАТЕЛЬНО ЗАПОЛНИТЬ ===\n",
    "full_name = \"Фамилия Имя\"     # например: \"Тощев Александр\"\n",
    "student_group = \"Группа\"      # например: \"208\"\n",
    "assignment_id = \"ORTHO-01\"\n",
    "assert full_name != \"Фамилия Имя\", \"Заполните full_name\"\n",
    "assert student_group != \"Группа\", \"Заполните student_group\"\n",
    "print(\"✔ Student Info OK\")\n"
   ]
  },
  {
   "cell_type": "markdown",
   "id": "e65ae57b",
   "metadata": {},
   "source": [
    "## Deadlines & Penalty"
   ]
  },
  {
   "cell_type": "code",
   "execution_count": null,
   "id": "caef150d",
   "metadata": {},
   "outputs": [],
   "source": [
    "\n",
    "from datetime import datetime, timezone, timedelta\n",
    "\n",
    "# Установите окна приёма (пример):\n",
    "start_dt = datetime(2025, 9, 1, 0, 0, 0, tzinfo=timezone.utc)\n",
    "due_dt   = datetime(2025, 10, 1, 23, 59, 59, tzinfo=timezone.utc)\n",
    "\n",
    "# Для протокола: время сдачи берём текущее (можно заменить на mtime файла)\n",
    "submission_dt = datetime.now(timezone.utc)\n",
    "\n",
    "def penalty_fraction(start_dt, due_dt, submission_dt):\n",
    "    \"\"\"Возвращает долю штрафа [0..1].\n",
    "    0 — без штрафа (<= due_dt). Линейно растёт от due_dt к due_dt + (due_dt - start_dt).\n",
    "    Не выходит за 1.0.\n",
    "    \"\"\"\n",
    "    if submission_dt <= due_dt:\n",
    "        return 0.0\n",
    "    total = (due_dt - start_dt).total_seconds()\n",
    "    late  = (submission_dt - due_dt).total_seconds()\n",
    "    if total <= 0:\n",
    "        return 1.0 if late > 0 else 0.0\n",
    "    return min(1.0, max(0.0, late / total))\n",
    "\n",
    "print(f\"Окно приёма: {start_dt.isoformat()} — {due_dt.isoformat()} (UTC)\")\n",
    "print(f\"Время сдачи: {submission_dt.isoformat()} (UTC)\")\n"
   ]
  },
  {
   "cell_type": "markdown",
   "id": "3d554a08",
   "metadata": {},
   "source": [
    "## Task 1 — Грам–Шмидт (30 баллов) Gram Shmidt\n"
   ]
  },
  {
   "cell_type": "code",
   "execution_count": null,
   "id": "51ba5409",
   "metadata": {},
   "outputs": [],
   "source": [
    "\n",
    "import numpy as np\n",
    "raw_score = 0\n",
    "max_points = 100\n",
    "\n",
    "def my_gram_schmidt(V: np.ndarray) -> np.ndarray:\n",
    "    U = []\n",
    "    for v in V.astype(float):\n",
    "        for u in U:\n",
    "            v = v - np.dot(v, u) * u\n",
    "        n = np.linalg.norm(v)\n",
    "        if n > 1e-12:\n",
    "            U.append(v / n)\n",
    "    return np.array(U)\n",
    "\n",
    "# [TEST]\n",
    "V = np.array([[1, 1, 0], [1, 0, 1], [2, 1, 1]], dtype=float)\n",
    "U = my_gram_schmidt(V)\n",
    "assert U.shape[0] >= 2, \"Ожидаем минимум 2 вектора 2 vectors awaiting\"\n",
    "# ортогональность\n",
    "for i in range(len(U)):\n",
    "    for j in range(i+1, len(U)):\n",
    "        assert abs(np.dot(U[i], U[j])) < 1e-6, \"Неортогональные векторы, Non-orthogonal vectors\"\n",
    "# нормы\n",
    "assert np.allclose(np.linalg.norm(U, axis=1), 1, atol=1e-6), \"Векторы не нормированы, vectors not normalized\"\n",
    "raw_score += 30\n",
    "print(\"✔ Task 1 passed: +30\")\n"
   ]
  },
  {
   "cell_type": "markdown",
   "id": "ec3ae706",
   "metadata": {},
   "source": [
    "## Task 2 — PCA на Iris (30 баллов)"
   ]
  },
  {
   "cell_type": "code",
   "execution_count": null,
   "id": "1a24e303",
   "metadata": {},
   "outputs": [],
   "source": [
    "\n",
    "import pandas as pd\n",
    "from sklearn.datasets import load_iris\n",
    "from sklearn.decomposition import PCA\n",
    "\n",
    "iris = load_iris()\n",
    "X = iris.data\n",
    "y = iris.target\n",
    "\n",
    "pca = PCA(n_components=2)\n",
    "X_pca = pca.fit_transform(X)\n",
    "VAR2 = float(pca.explained_variance_ratio_.sum())\n",
    "\n",
    "assert 0.6 <= VAR2 <= 1.0, f\"Слишком низкая суммарная дисперсия, Dispersation too low: {VAR2}\"\n",
    "raw_score += 30\n",
    "print(\"✔ Task 2 passed: +30\")\n"
   ]
  },
  {
   "cell_type": "markdown",
   "id": "80dbceaa",
   "metadata": {},
   "source": [
    "## Task 3 — Ridge (40 баллов)"
   ]
  },
  {
   "cell_type": "code",
   "execution_count": null,
   "id": "c42b417a",
   "metadata": {},
   "outputs": [],
   "source": [
    "\n",
    "from sklearn.linear_model import Ridge\n",
    "from sklearn.model_selection import train_test_split\n",
    "from sklearn.metrics import mean_squared_error\n",
    "\n",
    "X2 = X[:, :2]\n",
    "X_train, X_test, y_train, y_test = train_test_split(X2, y, test_size=0.2, random_state=42)\n",
    "ALPHAS = [0.001, 0.01, 0.1, 1, 10, 100]\n",
    "mses = []\n",
    "for a in ALPHAS:\n",
    "    m = Ridge(alpha=a)\n",
    "    m.fit(X_train, y_train)\n",
    "    pred = m.predict(X_test)\n",
    "    mses.append(mean_squared_error(y_test, pred))\n",
    "\n",
    "BEST_MSE = float(min(mses))\n",
    "BEST_ALPHA = float(ALPHAS[int(np.argmin(mses))])\n",
    "assert BEST_MSE < 1.5, f\"Подозрительно большая MSE, very hogh MSE: {BEST_MSE}\"\n",
    "raw_score += 40\n",
    "print(\"✔ Task 3 passed: +40\")\n"
   ]
  },
  {
   "cell_type": "markdown",
   "id": "8cc6c1e6",
   "metadata": {},
   "source": [
    "## Итог и JSON (совместимо с вашим harness)"
   ]
  },
  {
   "cell_type": "code",
   "execution_count": null,
   "id": "6c84c8c5",
   "metadata": {},
   "outputs": [],
   "source": [
    "\n",
    "import json\n",
    "\n",
    "# применяем штраф\n",
    "try:\n",
    "    pf = penalty_fraction(start_dt, due_dt, submission_dt)\n",
    "except NameError:\n",
    "    from datetime import timezone\n",
    "    pf = 0.0\n",
    "\n",
    "final_score = max(0.0, raw_score * (1.0 - min(1.0, pf)))\n",
    "\n",
    "print(f\"Сырой балл: {raw_score}/{max_points}\")\n",
    "print(f\"Штраф (доля): {pf:.4f}\")\n",
    "print(f\"Итоговый балл после штрафа: {final_score:.2f}/{max_points}\")\n",
    "\n",
    "# Последняя строка — JSON, который читает harness\n",
    "final = {\n",
    "    \"name\": full_name,\n",
    "    \"group\": student_group,\n",
    "    \"assignment\": assignment_id,\n",
    "    \"score\": float(final_score)\n",
    "}\n",
    "print(json.dumps(final, ensure_ascii=False))\n"
   ]
  }
 ],
 "metadata": {
  "kernelspec": {
   "display_name": "Python 3 (ipykernel)",
   "language": "python",
   "name": "python3"
  },
  "language_info": {
   "codemirror_mode": {
    "name": "ipython",
    "version": 3
   },
   "file_extension": ".py",
   "mimetype": "text/x-python",
   "name": "python",
   "nbconvert_exporter": "python",
   "pygments_lexer": "ipython3",
   "version": "3.10.18"
  }
 },
 "nbformat": 4,
 "nbformat_minor": 5
}
